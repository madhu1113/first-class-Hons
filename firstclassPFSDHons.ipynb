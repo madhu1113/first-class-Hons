{
 "cells": [
  {
   "cell_type": "code",
   "execution_count": 2,
   "id": "d0bc7229",
   "metadata": {},
   "outputs": [],
   "source": [
    "name = \"Akshya\""
   ]
  },
  {
   "cell_type": "code",
   "execution_count": 4,
   "id": "9bba8459",
   "metadata": {},
   "outputs": [
    {
     "data": {
      "text/plain": [
       "'Akshya'"
      ]
     },
     "execution_count": 4,
     "metadata": {},
     "output_type": "execute_result"
    }
   ],
   "source": [
    "name"
   ]
  },
  {
   "cell_type": "code",
   "execution_count": 5,
   "id": "8e0472e4",
   "metadata": {},
   "outputs": [
    {
     "data": {
      "text/plain": [
       "str"
      ]
     },
     "execution_count": 5,
     "metadata": {},
     "output_type": "execute_result"
    }
   ],
   "source": [
    "type(name)"
   ]
  },
  {
   "cell_type": "code",
   "execution_count": 6,
   "id": "35436031",
   "metadata": {},
   "outputs": [],
   "source": [
    "a = 876.343"
   ]
  },
  {
   "cell_type": "code",
   "execution_count": 7,
   "id": "a3e2b9ff",
   "metadata": {},
   "outputs": [
    {
     "data": {
      "text/plain": [
       "float"
      ]
     },
     "execution_count": 7,
     "metadata": {},
     "output_type": "execute_result"
    }
   ],
   "source": [
    "type(a)"
   ]
  },
  {
   "cell_type": "code",
   "execution_count": 8,
   "id": "ea7215c6",
   "metadata": {},
   "outputs": [],
   "source": [
    "a = \"f\""
   ]
  },
  {
   "cell_type": "code",
   "execution_count": 9,
   "id": "cd751630",
   "metadata": {},
   "outputs": [
    {
     "data": {
      "text/plain": [
       "str"
      ]
     },
     "execution_count": 9,
     "metadata": {},
     "output_type": "execute_result"
    }
   ],
   "source": [
    "type(a)"
   ]
  },
  {
   "cell_type": "code",
   "execution_count": 10,
   "id": "55ebb9ea",
   "metadata": {},
   "outputs": [],
   "source": [
    "a = 987"
   ]
  },
  {
   "cell_type": "code",
   "execution_count": 11,
   "id": "c4ae4dfa",
   "metadata": {},
   "outputs": [
    {
     "data": {
      "text/plain": [
       "int"
      ]
     },
     "execution_count": 11,
     "metadata": {},
     "output_type": "execute_result"
    }
   ],
   "source": [
    "type(a)"
   ]
  },
  {
   "cell_type": "code",
   "execution_count": 12,
   "id": "0de1bda4",
   "metadata": {},
   "outputs": [],
   "source": [
    "n = 6+8j"
   ]
  },
  {
   "cell_type": "code",
   "execution_count": 13,
   "id": "4f9b3971",
   "metadata": {},
   "outputs": [
    {
     "data": {
      "text/plain": [
       "complex"
      ]
     },
     "execution_count": 13,
     "metadata": {},
     "output_type": "execute_result"
    }
   ],
   "source": [
    "type(n)"
   ]
  },
  {
   "cell_type": "code",
   "execution_count": 14,
   "id": "b027e061",
   "metadata": {},
   "outputs": [
    {
     "ename": "SyntaxError",
     "evalue": "invalid syntax (3348921925.py, line 1)",
     "output_type": "error",
     "traceback": [
      "\u001b[0;36m  Input \u001b[0;32mIn [14]\u001b[0;36m\u001b[0m\n\u001b[0;31m    n = 8+7i\u001b[0m\n\u001b[0m           ^\u001b[0m\n\u001b[0;31mSyntaxError\u001b[0m\u001b[0;31m:\u001b[0m invalid syntax\n"
     ]
    }
   ],
   "source": [
    "n = 8+7i"
   ]
  },
  {
   "cell_type": "code",
   "execution_count": 15,
   "id": "a7036abe",
   "metadata": {},
   "outputs": [
    {
     "data": {
      "text/plain": [
       "2"
      ]
     },
     "execution_count": 15,
     "metadata": {},
     "output_type": "execute_result"
    }
   ],
   "source": [
    "1+1"
   ]
  },
  {
   "cell_type": "code",
   "execution_count": 16,
   "id": "62c954da",
   "metadata": {},
   "outputs": [
    {
     "data": {
      "text/plain": [
       "112"
      ]
     },
     "execution_count": 16,
     "metadata": {},
     "output_type": "execute_result"
    }
   ],
   "source": [
    "56+56"
   ]
  },
  {
   "cell_type": "code",
   "execution_count": 17,
   "id": "ab45445e",
   "metadata": {},
   "outputs": [
    {
     "data": {
      "text/plain": [
       "(12+16j)"
      ]
     },
     "execution_count": 17,
     "metadata": {},
     "output_type": "execute_result"
    }
   ],
   "source": [
    "n+n"
   ]
  },
  {
   "cell_type": "code",
   "execution_count": 18,
   "id": "b295f2f1",
   "metadata": {},
   "outputs": [
    {
     "data": {
      "text/plain": [
       "(-28+96j)"
      ]
     },
     "execution_count": 18,
     "metadata": {},
     "output_type": "execute_result"
    }
   ],
   "source": [
    "n*n"
   ]
  },
  {
   "cell_type": "code",
   "execution_count": 19,
   "id": "b81168d7",
   "metadata": {},
   "outputs": [
    {
     "data": {
      "text/plain": [
       "(1+0j)"
      ]
     },
     "execution_count": 19,
     "metadata": {},
     "output_type": "execute_result"
    }
   ],
   "source": [
    "n/n"
   ]
  },
  {
   "cell_type": "code",
   "execution_count": 20,
   "id": "121224df",
   "metadata": {},
   "outputs": [
    {
     "data": {
      "text/plain": [
       "0"
      ]
     },
     "execution_count": 20,
     "metadata": {},
     "output_type": "execute_result"
    }
   ],
   "source": [
    "True-True"
   ]
  },
  {
   "cell_type": "code",
   "execution_count": 21,
   "id": "20e44d99",
   "metadata": {},
   "outputs": [
    {
     "data": {
      "text/plain": [
       "1"
      ]
     },
     "execution_count": 21,
     "metadata": {},
     "output_type": "execute_result"
    }
   ],
   "source": [
    "True-False"
   ]
  },
  {
   "cell_type": "code",
   "execution_count": 22,
   "id": "77042b7c",
   "metadata": {},
   "outputs": [
    {
     "data": {
      "text/plain": [
       "0.0"
      ]
     },
     "execution_count": 22,
     "metadata": {},
     "output_type": "execute_result"
    }
   ],
   "source": [
    "False/True"
   ]
  },
  {
   "cell_type": "code",
   "execution_count": 23,
   "id": "64c98665",
   "metadata": {},
   "outputs": [
    {
     "ename": "ZeroDivisionError",
     "evalue": "division by zero",
     "output_type": "error",
     "traceback": [
      "\u001b[0;31m---------------------------------------------------------------------------\u001b[0m",
      "\u001b[0;31mZeroDivisionError\u001b[0m                         Traceback (most recent call last)",
      "Input \u001b[0;32mIn [23]\u001b[0m, in \u001b[0;36m<cell line: 1>\u001b[0;34m()\u001b[0m\n\u001b[0;32m----> 1\u001b[0m \u001b[38;5;28;43;01mTrue\u001b[39;49;00m\u001b[38;5;241;43m/\u001b[39;49m\u001b[38;5;28;43;01mFalse\u001b[39;49;00m\n",
      "\u001b[0;31mZeroDivisionError\u001b[0m: division by zero"
     ]
    }
   ],
   "source": [
    "True/False"
   ]
  },
  {
   "cell_type": "code",
   "execution_count": 24,
   "id": "84817d39",
   "metadata": {},
   "outputs": [],
   "source": [
    "name = \"Nikitha\""
   ]
  },
  {
   "cell_type": "code",
   "execution_count": 25,
   "id": "e499633b",
   "metadata": {},
   "outputs": [
    {
     "data": {
      "text/plain": [
       "'Nikitha'"
      ]
     },
     "execution_count": 25,
     "metadata": {},
     "output_type": "execute_result"
    }
   ],
   "source": [
    "name"
   ]
  },
  {
   "cell_type": "code",
   "execution_count": 26,
   "id": "b961b4fe",
   "metadata": {},
   "outputs": [
    {
     "data": {
      "text/plain": [
       "'Niki'"
      ]
     },
     "execution_count": 26,
     "metadata": {},
     "output_type": "execute_result"
    }
   ],
   "source": [
    "name[0:4]"
   ]
  },
  {
   "cell_type": "code",
   "execution_count": 27,
   "id": "23ace030",
   "metadata": {},
   "outputs": [
    {
     "data": {
      "text/plain": [
       "'kitha'"
      ]
     },
     "execution_count": 27,
     "metadata": {},
     "output_type": "execute_result"
    }
   ],
   "source": [
    "name[2:7]"
   ]
  },
  {
   "cell_type": "code",
   "execution_count": 28,
   "id": "f5809bc4",
   "metadata": {},
   "outputs": [],
   "source": [
    "sen = \"We love coding\""
   ]
  },
  {
   "cell_type": "code",
   "execution_count": 29,
   "id": "bf13626a",
   "metadata": {},
   "outputs": [
    {
     "data": {
      "text/plain": [
       "'We love coding'"
      ]
     },
     "execution_count": 29,
     "metadata": {},
     "output_type": "execute_result"
    }
   ],
   "source": [
    "sen"
   ]
  },
  {
   "cell_type": "code",
   "execution_count": 30,
   "id": "063e0617",
   "metadata": {},
   "outputs": [
    {
     "data": {
      "text/plain": [
       "'oecdn'"
      ]
     },
     "execution_count": 30,
     "metadata": {},
     "output_type": "execute_result"
    }
   ],
   "source": [
    "sen[4:90:2]"
   ]
  },
  {
   "cell_type": "code",
   "execution_count": 31,
   "id": "2ca2ea27",
   "metadata": {},
   "outputs": [
    {
     "data": {
      "text/plain": [
       "'gnidoc evol'"
      ]
     },
     "execution_count": 31,
     "metadata": {},
     "output_type": "execute_result"
    }
   ],
   "source": [
    "sen[90:2:-1]"
   ]
  },
  {
   "cell_type": "code",
   "execution_count": 32,
   "id": "8e1008af",
   "metadata": {},
   "outputs": [
    {
     "data": {
      "text/plain": [
       "'gio vl'"
      ]
     },
     "execution_count": 32,
     "metadata": {},
     "output_type": "execute_result"
    }
   ],
   "source": [
    "sen[90:2:-2]"
   ]
  },
  {
   "cell_type": "code",
   "execution_count": 33,
   "id": "81278dc3",
   "metadata": {},
   "outputs": [
    {
     "data": {
      "text/plain": [
       "'We love coding'"
      ]
     },
     "execution_count": 33,
     "metadata": {},
     "output_type": "execute_result"
    }
   ],
   "source": [
    "sen[:]"
   ]
  },
  {
   "cell_type": "code",
   "execution_count": 34,
   "id": "df715611",
   "metadata": {},
   "outputs": [
    {
     "data": {
      "text/plain": [
       "'gnidoc evol eW'"
      ]
     },
     "execution_count": 34,
     "metadata": {},
     "output_type": "execute_result"
    }
   ],
   "source": [
    "sen[::-1]"
   ]
  },
  {
   "cell_type": "code",
   "execution_count": 35,
   "id": "fbfdbfdc",
   "metadata": {},
   "outputs": [
    {
     "data": {
      "text/plain": [
       "'gnidoc ev'"
      ]
     },
     "execution_count": 35,
     "metadata": {},
     "output_type": "execute_result"
    }
   ],
   "source": [
    "sen[-1:-10:-1]"
   ]
  },
  {
   "cell_type": "code",
   "execution_count": 36,
   "id": "8790f3ac",
   "metadata": {},
   "outputs": [
    {
     "data": {
      "text/plain": [
       "''"
      ]
     },
     "execution_count": 36,
     "metadata": {},
     "output_type": "execute_result"
    }
   ],
   "source": [
    "sen[-1:-10:4]"
   ]
  },
  {
   "cell_type": "code",
   "execution_count": 37,
   "id": "593221de",
   "metadata": {},
   "outputs": [
    {
     "data": {
      "text/plain": [
       "'o d'"
      ]
     },
     "execution_count": 37,
     "metadata": {},
     "output_type": "execute_result"
    }
   ],
   "source": [
    "sen[-10:-1:3]"
   ]
  },
  {
   "cell_type": "code",
   "execution_count": 38,
   "id": "88cf7f94",
   "metadata": {},
   "outputs": [
    {
     "data": {
      "text/plain": [
       "'ol '"
      ]
     },
     "execution_count": 38,
     "metadata": {},
     "output_type": "execute_result"
    }
   ],
   "source": [
    "sen[-10:1:-1]"
   ]
  },
  {
   "cell_type": "code",
   "execution_count": null,
   "id": "841d0041",
   "metadata": {},
   "outputs": [],
   "source": []
  }
 ],
 "metadata": {
  "kernelspec": {
   "display_name": "Python 3 (ipykernel)",
   "language": "python",
   "name": "python3"
  },
  "language_info": {
   "codemirror_mode": {
    "name": "ipython",
    "version": 3
   },
   "file_extension": ".py",
   "mimetype": "text/x-python",
   "name": "python",
   "nbconvert_exporter": "python",
   "pygments_lexer": "ipython3",
   "version": "3.9.12"
  }
 },
 "nbformat": 4,
 "nbformat_minor": 5
}
